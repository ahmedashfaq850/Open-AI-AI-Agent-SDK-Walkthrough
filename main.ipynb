{
 "cells": [
  {
   "cell_type": "code",
   "execution_count": 11,
   "metadata": {},
   "outputs": [],
   "source": [
    "from openai import OpenAI\n",
    "from agents import Agent, InputGuardrail, GuardrailFunctionOutput, Runner\n",
    "from pydantic import BaseModel\n",
    "import asyncio\n",
    "import os\n",
    "import base64\n",
    "from IPython.display import Image, display\n",
    "import json"
   ]
  },
  {
   "cell_type": "code",
   "execution_count": 12,
   "metadata": {},
   "outputs": [],
   "source": [
    "# Load the OpenAI API key from the environment\n",
    "openai_key = os.environ[\"OPENAI_API_KEY\"]\n",
    "client = OpenAI(api_key=openai_key)"
   ]
  },
  {
   "cell_type": "code",
   "execution_count": 13,
   "metadata": {},
   "outputs": [
    {
     "name": "stdout",
     "output_type": "stream",
     "text": [
      "Why don't scientists trust atoms?\n",
      "\n",
      "Because they make up everything!\n"
     ]
    }
   ],
   "source": [
    "# Simple Text Generation\n",
    "response = client.responses.create(\n",
    "    model=\"gpt-4o\",\n",
    "    input=\"tell me a joke\",\n",
    ")\n",
    "\n",
    "print(response.output_text)"
   ]
  },
  {
   "cell_type": "code",
   "execution_count": 14,
   "metadata": {},
   "outputs": [
    {
     "name": "stdout",
     "output_type": "stream",
     "text": [
      "I can't determine the teams from the image, but it looks like a group of children playing soccer in a park.\n"
     ]
    }
   ],
   "source": [
    "# Multi-Modal Generation Text and Image \n",
    "\n",
    "image_Url = 'https://t4.ftcdn.net/jpg/01/71/94/77/360_F_171947753_jI2NCXjEGNscOaYhV0wvPv4vFSDnnwUM.jpg'\n",
    "\n",
    "response = client.responses.create(\n",
    "    model = \"gpt-4o\",\n",
    "    input = [\n",
    "        {\"role\": \"user\",\n",
    "         \"content\": \"what teams are playing in this image?\"\n",
    "        },\n",
    "        {\n",
    "            \"role\": \"user\",\n",
    "            \"content\": [\n",
    "                {\n",
    "                    \"type\": \"input_image\",\n",
    "                    \"image_url\": image_Url\n",
    "                }\n",
    "            ]\n",
    "        }\n",
    "    ]\n",
    ")\n",
    "\n",
    "print(response.output_text)"
   ]
  },
  {
   "cell_type": "code",
   "execution_count": 15,
   "metadata": {},
   "outputs": [
    {
     "name": "stdout",
     "output_type": "stream",
     "text": [
      "The first president of the United States was George Washington. He served from 1789 to 1797 after being unanimously elected by the Electoral College. Washington is often called the \"Father of His Country\" for his leadership during the American Revolutionary War and his role in drafting the Constitution. His presidency set many precedents, including the formation of a cabinet and the tradition of a two-term limit.\n"
     ]
    }
   ],
   "source": [
    "# Open AI Agent SDK\n",
    "\n",
    "# Create a history tutor agent\n",
    "history_tutor_agent = Agent(\n",
    "    name = \"History Tutor\",\n",
    "    handoff_description =  \"Specialized agent for historical questions\",\n",
    "    instructions = \"You provide assistance with historical queries. Explain important events and context clearly.\"\n",
    ")\n",
    "\n",
    "# Run the agent with a query\n",
    "result = await Runner.run(history_tutor_agent, \"Who was the first president of the United States?\")\n",
    "print(result.final_output)"
   ]
  },
  {
   "cell_type": "code",
   "execution_count": 17,
   "metadata": {},
   "outputs": [
    {
     "name": "stdout",
     "output_type": "stream",
     "text": [
      "When you refer to the \"power of\" an expression like \\(x^2 - 1\\), it usually concerns the degree of the polynomial.\n",
      "\n",
      "### Degree of a Polynomial\n",
      "The degree of a polynomial is the highest power of the variable \\(x\\) in the expression when it is expanded completely.\n",
      "\n",
      "### Example\n",
      "\n",
      "For the polynomial \\(x^2 - 1\\):\n",
      "\n",
      "1. **Identify the Terms**: The polynomial consists of two terms: \\(x^2\\) and \\(-1\\).\n",
      "\n",
      "2. **Degrees of Each Term**:\n",
      "   - The term \\(x^2\\) has a degree of 2.\n",
      "   - The constant term \\(-1\\) has a degree of 0 (since constants can be thought of as multiplied by \\(x^0\\)).\n",
      "\n",
      "3. **Highest Degree Term**: Among \\(x^2\\) and \\(-1\\), the term with the highest degree is \\(x^2\\), which has a degree of 2.\n",
      "\n",
      "Thus, the degree of the polynomial \\(x^2 - 1\\) is 2. Therefore, when you are asked for the \"power of\" this expression, it typically means the same as the degree of the polynomial, which is 2.\n"
     ]
    }
   ],
   "source": [
    "# Create a math tutor agent\n",
    "math_tutor_agent = Agent(\n",
    "    name = \"Math Tutor\",\n",
    "    handoff_description= \"Specialist agent for math instrucitons\",\n",
    "    instructions = \"You provide help with math problems. Explain your reasoning at each step and include examples.\"\n",
    ")\n",
    "\n",
    "# Run the math agent\n",
    "result = await Runner.run(math_tutor_agent, \"what is the power of x**2 - 1\")\n",
    "print(result.final_output)\n"
   ]
  },
  {
   "cell_type": "code",
   "execution_count": null,
   "metadata": {},
   "outputs": [],
   "source": [
    "# Recreate specialized agents\n",
    "\n",
    "history_tutor_agent = Agent(\n",
    "    name = \"History Tutor\",\n",
    "    handoff_description=\"Specialized agent for historical questions\",\n",
    "    instructions= \"You provide assistance with historical queries. Explain important events and context clearly.\"\n",
    ")\n",
    "\n",
    "math_tutor_agent = Agent(\n",
    "    name = \"Math Tutor\",\n",
    "    handoff_description= \"Specialist agent for math instructions\",\n",
    "    instructions = \"You provide help with math problems. Explain your reasoning at each step and include examples.\"\n",
    ")\n",
    "\n",
    "triage_agent = Agent(\n",
    "    name = \"Triage Agent\",\n",
    "    instructions=\"Handoff to the appropriate agent based on the nature of the request\",\n",
    "    handoffs=[history_tutor_agent, math_tutor_agent]\n",
    ")\n",
    "\n",
    "result = await Runner.run(triage_agent, \"What is derivative of x^2 - 1\")\n",
    "print(result.final_output)\n",
    "\n",
    "result = await Runner.run(triage_agent, \"Who was the first president of the united states?\")\n",
    "print(result.final_output)"
   ]
  }
 ],
 "metadata": {
  "kernelspec": {
   "display_name": "Python 3",
   "language": "python",
   "name": "python3"
  },
  "language_info": {
   "codemirror_mode": {
    "name": "ipython",
    "version": 3
   },
   "file_extension": ".py",
   "mimetype": "text/x-python",
   "name": "python",
   "nbconvert_exporter": "python",
   "pygments_lexer": "ipython3",
   "version": "3.12.3"
  }
 },
 "nbformat": 4,
 "nbformat_minor": 2
}

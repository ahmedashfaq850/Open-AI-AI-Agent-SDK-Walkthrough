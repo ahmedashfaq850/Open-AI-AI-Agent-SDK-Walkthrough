{
 "cells": [
  {
   "cell_type": "code",
   "execution_count": 1,
   "metadata": {},
   "outputs": [],
   "source": [
    "from openai import OpenAI\n",
    "from agents import Agent, InputGuardrail, GuardrailFunctionOutput, Runner\n",
    "from pydantic import BaseModel\n",
    "import asyncio\n",
    "import os\n",
    "import base64\n",
    "from IPython.display import Image, display\n",
    "import json"
   ]
  },
  {
   "cell_type": "code",
   "execution_count": null,
   "metadata": {},
   "outputs": [],
   "source": [
    "# Load the OpenAI API key from the environment\n",
    "openai_key = os.environ[\"OPENAI_API_KEY\"]\n",
    "client = OpenAI(api_key=openai_key)"
   ]
  },
  {
   "cell_type": "code",
   "execution_count": 5,
   "metadata": {},
   "outputs": [
    {
     "name": "stdout",
     "output_type": "stream",
     "text": [
      "Why don't skeletons fight each other?\n",
      "\n",
      "They don't have the guts.\n"
     ]
    }
   ],
   "source": [
    "# Simple Text Generation\n",
    "response = client.responses.create(\n",
    "    model=\"gpt-4o\",\n",
    "    input=\"tell me a joke\",\n",
    ")\n",
    "\n",
    "print(response.output_text)"
   ]
  },
  {
   "cell_type": "code",
   "execution_count": 9,
   "metadata": {},
   "outputs": [
    {
     "name": "stdout",
     "output_type": "stream",
     "text": [
      "The image shows children playing soccer in a park. They don't appear to be part of any specific teams; it looks like a casual game.\n"
     ]
    }
   ],
   "source": [
    "# Multi-Modal Generation Text and Image \n",
    "\n",
    "image_Url = 'https://t4.ftcdn.net/jpg/01/71/94/77/360_F_171947753_jI2NCXjEGNscOaYhV0wvPv4vFSDnnwUM.jpg'\n",
    "\n",
    "response = client.responses.create(\n",
    "    model = \"gpt-4o\",\n",
    "    input = [\n",
    "        {\"role\": \"user\",\n",
    "         \"content\": \"what teams are playing in this image?\"\n",
    "        },\n",
    "        {\n",
    "            \"role\": \"user\",\n",
    "            \"content\": [\n",
    "                {\n",
    "                    \"type\": \"input_image\",\n",
    "                    \"image_url\": image_Url\n",
    "                }\n",
    "            ]\n",
    "        }\n",
    "    ]\n",
    ")\n",
    "\n",
    "print(response.output_text)"
   ]
  },
  {
   "cell_type": "code",
   "execution_count": null,
   "metadata": {},
   "outputs": [],
   "source": []
  }
 ],
 "metadata": {
  "kernelspec": {
   "display_name": "Python 3",
   "language": "python",
   "name": "python3"
  },
  "language_info": {
   "codemirror_mode": {
    "name": "ipython",
    "version": 3
   },
   "file_extension": ".py",
   "mimetype": "text/x-python",
   "name": "python",
   "nbconvert_exporter": "python",
   "pygments_lexer": "ipython3",
   "version": "3.12.3"
  }
 },
 "nbformat": 4,
 "nbformat_minor": 2
}
